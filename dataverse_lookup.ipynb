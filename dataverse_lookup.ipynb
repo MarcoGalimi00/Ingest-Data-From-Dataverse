{
 "cells": [
  {
   "cell_type": "code",
   "execution_count": 0,
   "metadata": {
    "application/vnd.databricks.v1+cell": {
     "cellMetadata": {
      "byteLimit": 2048000,
      "rowLimit": 10000
     },
     "inputWidgets": {},
     "nuid": "1307c727-5570-4346-9747-55c5697ef972",
     "showTitle": false,
     "tableResultSettingsMap": {},
     "title": ""
    }
   },
   "outputs": [],
   "source": [
    "import pandas as pd\n",
    "import requests\n",
    "import json\n",
    "import openpyxl\n",
    "from datetime import datetime\n",
    "from pyspark.sql.types import StructType, StructField, StringType, TimestampType, IntegerType"
   ]
  },
  {
   "cell_type": "markdown",
   "metadata": {
    "application/vnd.databricks.v1+cell": {
     "cellMetadata": {
      "byteLimit": 2048000,
      "rowLimit": 10000
     },
     "inputWidgets": {},
     "nuid": "7d4d30f8-6324-4e29-a562-961cf6f2ed97",
     "showTitle": false,
     "tableResultSettingsMap": {},
     "title": ""
    }
   },
   "source": [
    "## \uD83D\uDCC4 Parameters\n",
    "\n",
    "| Parameter | Type | Default | Description / Usage |\n",
    "|-----------|------|---------|---------------------|\n",
    "| `country` | string | `\"it\"` | Country code used to filter or customize execution. Currently only printed, but can be used for logic routing. |\n",
    "| `topic` | string | `\"dataverse\"` | Data domain or topic (e.g., `\"dataverse\"`). Used to filter tables based on the `topic` column in the input CSV file. |\n",
    "| `target_table_info_name` | string | `\"table_info_dataverse.csv\"` | Name of the CSV file containing target table information. Not directly loaded in this script (uses `dataverse_table_info.csv` hardcoded), but can be used in extensions. |\n",
    "| `max_age` | int (seconds) | `86400` (24h) | Maximum allowed age (in seconds) since last modification of a table before it’s considered for refresh. If the table is “younger” than this limit, it will be refreshed. |\n",
    "| `force_refresh_all` | boolean | `false` | If `true`, forces refresh of **all** tables regardless of `max_age` or row count checks. |\n",
    "| `select_topics` | string (semicolon-separated list) | `None` | List of topics to include. If set, only tables with a `topic` value present in this list are processed. A trailing `;` is removed if present. |\n",
    "| `force_fail` | boolean | `false` | If `true`, the notebook will raise an exception in case of an error when fetching Dataverse table metadata; otherwise, it will log the error and continue. |\n",
    "\n",
    "---\n",
    "\n",
    "### \uD83D\uDD11 Operational Notes\n",
    "- Parameters are created using `dbutils.widgets` so they can be set via the Databricks UI or orchestrated from Azure Data Factory.\n",
    "- **Azure Key Vault secrets** (`dataprocessing-tenant-id`, `dataprocessing-app-id`, `dataprocessing-app-secret`, `dataverse-uri`, etc.) are **used inside the notebooks** to authenticate with Dataverse. They are **not part of the ADF pipeline definition**.\n",
    "- `select_topics` is normalized into a Python `set` for fast lookups.\n",
    "- `max_age` is in **seconds** (`86400` = 24 hours).\n",
    "- `force_refresh_all` and `force_fail` are dropdown boolean widgets in Databricks (`true` / `false`).\n",
    "\n"
   ]
  },
  {
   "cell_type": "markdown",
   "metadata": {
    "application/vnd.databricks.v1+cell": {
     "cellMetadata": {
      "byteLimit": 2048000,
      "rowLimit": 10000
     },
     "inputWidgets": {},
     "nuid": "31c52f70-5e69-4dfd-ae42-81cea81ef9f6",
     "showTitle": false,
     "tableResultSettingsMap": {},
     "title": ""
    }
   },
   "source": [
    "## \uD83D\uDCDA Function Reference\n",
    "\n",
    "This section describes the core utility functions used for:\n",
    "- Tracking Dataverse table metadata (last update date & row count).\n",
    "- Authenticating to the Dataverse API.\n",
    "- Retrieving table status and counts.\n",
    "\n",
    "---\n",
    "\n",
    "### `get_stat_format(table_topic, table_name_plural, last_modified_dt, last_modified_count)`\n",
    "\n",
    "**Purpose:**  \n",
    "Returns a Python dictionary matching the `stats_tab_schema` format for easier DataFrame creation.\n",
    "\n",
    "**Parameters:**\n",
    "- `table_topic` *(str)* – Logical topic/group the table belongs to.\n",
    "- `table_name_plural` *(str)* – Dataverse plural table name.\n",
    "- `last_modified_dt` *(datetime)* – Last modification timestamp.\n",
    "- `last_modified_count` *(int)* – Row count at last update.\n",
    "\n",
    "**Returns:**  \n",
    "A dictionary with keys:  \n",
    "`table_topic`, `table_name_plural`, `last_modified_dt`, `last_modified_count`.\n",
    "\n",
    "---\n",
    "\n",
    "### `get_table_stats(table_name_plural)`\n",
    "\n",
    "**Purpose:**  \n",
    "Checks whether statistics for a given Dataverse table already exist in `<your_schema>.dataverse_update_lookup`.\n",
    "\n",
    "**Parameters:**\n",
    "- `table_name_plural` *(str)* – Dataverse plural table name.\n",
    "\n",
    "**Returns:**  \n",
    "Tuple:\n",
    "1. `found?` *(bool)* – Whether an entry exists.\n",
    "2. `count` *(int or None)* – Stored row count.\n",
    "3. `last_dt` *(datetime or None)* – Stored last modification date.\n",
    "\n",
    "---\n",
    "\n",
    "### `update_table_stats(table_topic, table_name_plural, last_modified_dt, last_modified_count)`\n",
    "\n",
    "**Purpose:**  \n",
    "Updates or inserts statistics for a Dataverse table in `<your_schema>.dataverse_update_lookup`.\n",
    "\n",
    "**Parameters:**\n",
    "- `table_topic` *(str)*\n",
    "- `table_name_plural` *(str)*\n",
    "- `last_modified_dt` *(datetime)*\n",
    "- `last_modified_count` *(int)*\n",
    "\n",
    "**Notes:**\n",
    "- If the record does not exist, it is **inserted**.\n",
    "- If the record exists, the `last_modified_dt` and `last_modified_count` fields are **updated**.\n",
    "- ⚠️ If two processes run the Dataverse lookup in parallel, they may both update the same table. This is not critical — at worst, the table will be refreshed twice.\n",
    "\n",
    "---\n",
    "\n",
    "### `get_access_token(tenant_id, client_id, client_secret, dataverse_uri)`\n",
    "\n",
    "**Purpose:**  \n",
    "Requests an OAuth 2.0 client credentials access token for the Dataverse API.\n",
    "\n",
    "**Parameters:**\n",
    "- `tenant_id` *(str)* – Azure AD tenant ID.\n",
    "- `client_id` *(str)* – Application client ID.\n",
    "- `client_secret` *(str)* – Application secret.\n",
    "- `dataverse_uri` *(str)* – Dataverse instance URI (without `/api/data/v9.2/`).\n",
    "\n",
    "**Returns:**  \n",
    "Access token *(str)* to be used in HTTP `Authorization` headers.\n",
    "\n",
    "**Raises:**  \n",
    "Exception if the token request fails or the response does not contain `access_token`.\n",
    "\n",
    "---\n",
    "\n",
    "### `dataverse_count(table_name_plural, access_token)`\n",
    "\n",
    "**Purpose:**  \n",
    "Counts the number of rows in a Dataverse table by paging through results.\n",
    "\n",
    "**Parameters:**\n",
    "- `table_name_plural` *(str)* – Dataverse plural table name.\n",
    "- `access_token` *(str)* – OAuth 2.0 access token.\n",
    "\n",
    "**Returns:**  \n",
    "Row count *(int)* for the specified table.\n",
    "\n",
    "**Notes:**\n",
    "- Uses `$select=modifiedon` and `$count=true` to minimize payload.\n",
    "- Follows `@odata.nextLink` for pagination.\n",
    "\n",
    "---\n",
    "\n",
    "### `get_status_of_dataverse_table(table_name_plural, endpoint, access_token)`\n",
    "\n",
    "**Purpose:**  \n",
    "Retrieves the latest modification date and row count for a Dataverse table.\n",
    "\n",
    "**Parameters:**\n",
    "- `table_name_plural` *(str)* – Dataverse plural table name.\n",
    "- `endpoint` *(str)* – Dataverse API endpoint (e.g., `https://<org>.crm.dynamics.com/api/data/v9.2`).\n",
    "- `access_token` *(str)* – OAuth 2.0 access token.\n",
    "\n",
    "**Returns:**  \n",
    "Tuple:\n",
    "1. `last_modified_date` *(datetime or None)* – Latest modification timestamp.\n",
    "2. `row_count` *(int or None)* – Total number of rows.\n",
    "3. `response` *(requests.Response)* – Original HTTP response object.\n",
    "\n",
    "**Behavior:**\n",
    "- Orders results by `modifiedon` descending and retrieves the most recent record.\n",
    "- If no records exist, returns `datetime(1970, 1, 1, 0, 0, 1)` and count `0`.\n",
    "- Calls `dataverse_count()` to get the full row count.\n",
    "\n",
    "**Error Handling:**\n",
    "- If the HTTP status code is not `200` or `202`, prints a warning and returns `(None, None, response)`.\n",
    "\n",
    "---\n",
    "\n",
    "### \uD83D\uDD11 Key Notes for GitHub Usage\n",
    "- Replace `<your_schema>` with a schema name matching your Dataverse topic (e.g., `sch_statistics`).\n",
    "- These functions are designed to be **idempotent** — running them multiple times will not cause data corruption.\n",
    "- The statistics tracking table is critical for **incremental refresh logic** in the pipeline.\n"
   ]
  },
  {
   "cell_type": "code",
   "execution_count": 0,
   "metadata": {
    "application/vnd.databricks.v1+cell": {
     "cellMetadata": {
      "byteLimit": 2048000,
      "rowLimit": 10000
     },
     "inputWidgets": {},
     "nuid": "0dc473bc-d217-4fc2-81be-6cc3eff1ff49",
     "showTitle": false,
     "tableResultSettingsMap": {},
     "title": ""
    }
   },
   "outputs": [],
   "source": [
    "def get_stat_format(table_topic, table_name_plural, last_modified_dt, last_modified_count):\n",
    "  return {\n",
    "    \"table_topic\" : table_topic,\n",
    "    \"table_name_plural\" : table_name_plural,\n",
    "    \"last_modified_dt\" : last_modified_dt,\n",
    "    \"last_modified_count\" : last_modified_count,\n",
    "  }\n",
    "\n",
    "\n",
    "def get_table_stats(table_name_plural):\n",
    "  '''\n",
    "  returns: found?, count, last_dt\n",
    "  '''\n",
    "  global df_stats\n",
    "  data = df_stats[df_stats['table_name_plural'] == table_name_plural].collect()\n",
    "  if len(data) == 0:\n",
    "    return False, None, None\n",
    "  return True, data[0]['last_modified_count'], data[0]['last_modified_dt']\n",
    "\n",
    "\n",
    "def update_table_stats(table_topic, table_name_plural, last_modified_dt, last_modified_count):\n",
    "  global df_stats, stats_tab_schema\n",
    "  data = df_stats[df_stats['table_name_plural'] == table_name_plural].collect()\n",
    "  if len(data) == 0:\n",
    "    spark.createDataFrame(data=[get_stat_format(table_topic, table_name_plural, last_modified_dt, last_modified_count), ], schema=stats_tab_schema).write.insertInto(\"sch_statistics.dataverse_update_lookup\")\n",
    "  else:\n",
    "    _ = spark.sql(f\"\"\"\n",
    "    UPDATE sch_statistics.dataverse_update_lookup\n",
    "    SET \n",
    "      last_modified_dt = to_timestamp('{last_modified_dt.strftime('%Y%m%d %H%M%S')}', 'yyyyMMdd HHmmss'),\n",
    "      last_modified_count = {last_modified_count}\n",
    "    WHERE  \n",
    "      table_name_plural = '{table_name_plural}'\n",
    "    \"\"\")\n",
    "\n",
    "\n",
    "def get_access_token(tenant_id, client_id, client_secret, dataverse_uri):\n",
    "    token_endpoint_url = (\n",
    "        f\"https://login.microsoftonline.com/{tenant_id}/oauth2/v2.0/token\"\n",
    "    )\n",
    "    payload = {\n",
    "        \"grant_type\": \"client_credentials\",\n",
    "        \"client_id\": client_id,\n",
    "        \"client_secret\": client_secret,\n",
    "        \"scope\": f\"{dataverse_uri}/.default\", \n",
    "    }\n",
    "    res = requests.post(token_endpoint_url, data=payload)\n",
    "    if res.status_code != 200:\n",
    "        raise Exception(f\"ERROR while trying getting token from dataverse service! Reason:\\n{res.content}\")\n",
    "    access_token = ''\n",
    "    try:\n",
    "        access_token = res.json()[\"access_token\"]\n",
    "    except Exception as e:\n",
    "        raise Exception(f\"ERROR while trying getting token from dataverse service! Reason:\\n{e}\")\n",
    "    return access_token\n",
    "\n",
    "def dataverse_count(table_name_plural, access_token):\n",
    "  arg = f\"{table_name_plural}?$select=modifiedon&$count=true\"\n",
    "  headers = {\n",
    "    \"Authorization\": f\"Bearer {access_token}\",\n",
    "    \"Accept\": \"application/json\",\n",
    "    \"Content-Type\": \"application/json; charset=utf-8\"\n",
    "  }\n",
    "\n",
    "  count_val = 0\n",
    "  url = f\"{endpoint}/{arg}\".replace(' ', '%20')\n",
    "  while True:\n",
    "    res = requests.get(url=url, headers=headers)\n",
    "    count_val += len(res.json()['value'])\n",
    "\n",
    "    if '@odata.nextLink' in res.json().keys():\n",
    "      arg = res.json()['@odata.nextLink']\n",
    "      url = f\"{arg}\".replace(' ', '%20')\n",
    "    else:\n",
    "      break\n",
    "  \n",
    "  return count_val\n",
    "\n",
    "def get_status_of_dataverse_table(table_name_plural, endpoint, access_token):\n",
    "    url = f\"{endpoint}/{table_name_plural}?$count=true&$orderby=modifiedon desc&$top=1&$select=modifiedon\".replace(' ', '%20')\n",
    "    headers = {\n",
    "        \"Authorization\": f\"Bearer {access_token}\",\n",
    "        \"Accept\": \"application/json\",\n",
    "        \"Content-Type\": \"application/json; charset=utf-8\"\n",
    "    }\n",
    "    res = requests.get(\n",
    "        url=url, \n",
    "        headers=headers\n",
    "    )\n",
    "\n",
    "    if res.status_code not in (200, 202, ):\n",
    "        print(\"WARNING:\", res.status_code, \"with content\", res.content)\n",
    "        return None, None, res\n",
    "\n",
    "    res_json = res.json()['value']\n",
    "    last_modified_date = datetime(1970, 1, 1, 0, 0, 1)\n",
    "    if len(res_json) > 0:\n",
    "        return datetime.fromisoformat(res_json[0]['modifiedon'].replace('Z', '')), dataverse_count(table_name_plural, access_token), res\n",
    "    else:\n",
    "        return last_modified_date, 0, res"
   ]
  },
  {
   "cell_type": "code",
   "execution_count": 0,
   "metadata": {
    "application/vnd.databricks.v1+cell": {
     "cellMetadata": {
      "byteLimit": 2048000,
      "rowLimit": 10000
     },
     "inputWidgets": {},
     "nuid": "87767dcf-ce8f-43f4-b8b9-ae63430cf8da",
     "showTitle": true,
     "tableResultSettingsMap": {},
     "title": "Notebook Parameters"
    }
   },
   "source": [
    "dbutils.widgets.text( \"topic\", \"\",\"\" ) \n",
    "topic = dbutils.widgets.get( \"topic\" ) or \"dataverse\"\n",
    "\n",
    "dbutils.widgets.text( \"target_table_info_name\", \"\",\"\" ) \n",
    "target_table_info_name = dbutils.widgets.get( \"target_table_info_name\" )\n",
    "\n",
    "dbutils.widgets.text( \"max_age\", \"\",\"\" ) # in seconds\n",
    "max_age = int(dbutils.widgets.get( \"max_age\" ) or \"86400\") # DEFAULT: 24 hours\n",
    "\n",
    "dbutils.widgets.dropdown('force_refresh_all', 'false', ['true', 'false'])\n",
    "force_refresh_all = (dbutils.widgets.get( \"force_refresh_all\" ) or \"false\") == 'true'\n",
    "\n",
    "dbutils.widgets.text( \"select_topics\", \"\",\"\" )\n",
    "select_topics = (dbutils.widgets.get( \"select_topics\" ) or '').strip()\n",
    "select_topics = select_topics[:-1] if select_topics.endswith(';') else select_topics\n",
    "if select_topics in ('', ';'):\n",
    "    select_topics = None\n",
    "else:\n",
    "    select_topics = set(select_topics.split(';'))\n",
    "\n",
    "dbutils.widgets.dropdown('force_fail', 'false', ['true', 'false'])\n",
    "force_fail = (dbutils.widgets.get( \"force_fail\" ) or \"false\") == 'true'\n",
    "\n",
    "env = dbutils.secrets.get(scope=\"kv-solution-01\", key=\"environment\")\n",
    "\n",
    "env_mapping = {\n",
    "    \"development\": \"<your-dev-catalog>\",\n",
    "    \"test\": \"<<your-dev-catalog>>\",\n",
    "    \"acceptance\": \"<your-acceptance-catalog>\",\n",
    "    \"production\": \"<your-production-catalog>\"\n",
    "}\n",
    "\n",
    "uc_env = env_mapping[env]\n",
    "\n",
    "print(\"environment:\", env)\n",
    "print(\"topic:\", topic)\n",
    "print(\"max_age:\", max_age)\n",
    "print(\"force_refresh_all:\", force_refresh_all)\n",
    "print(\"force_fail:\", force_fail)\n",
    "print(\"select_topics:\", select_topics)\n",
    "print(\"target_table_info_name:\", target_table_info_name)"
   ]
  },
  {
   "cell_type": "code",
   "execution_count": 0,
   "metadata": {
    "application/vnd.databricks.v1+cell": {
     "cellMetadata": {
      "byteLimit": 2048000,
      "rowLimit": 10000
     },
     "inputWidgets": {},
     "nuid": "fa89487b-3700-4a16-868d-5715afaa1c83",
     "showTitle": true,
     "tableResultSettingsMap": {},
     "title": "Load table info as Pandas dataframe"
    }
   },
   "outputs": [],
   "source": [
    "df = spark.read.format(\"csv\").option(\"header\", \"true\").option(\"encoding\", \"utf-8\").load(\"file:/Workspace/Users/galimm02@heiway.net/dataverse_table_info.csv\")"
   ]
  },
  {
   "cell_type": "markdown",
   "metadata": {
    "application/vnd.databricks.v1+cell": {
     "cellMetadata": {
      "byteLimit": 2048000,
      "rowLimit": 10000
     },
     "inputWidgets": {},
     "nuid": "3e5f1d03-8e07-48f1-a3d3-2e840e6534aa",
     "showTitle": false,
     "tableResultSettingsMap": {},
     "title": ""
    }
   },
   "source": [
    "## \uD83D\uDCCA Dataverse Table Statistics Management\n",
    "\n",
    "This section of the notebook manages a **Delta table** used to track the last modification date and row count for Dataverse tables.  \n",
    "It allows the pipeline to decide whether a table needs refreshing based on changes in Dataverse.\n",
    "\n",
    "`<your_schema>` should be replaced with the schema corresponding to your data topic (e.g., sch_statistics, sch_sales, etc.).\n",
    "\n",
    "### The statistics table:\n",
    "`dataverse_update_lookup` is a Delta table used to store:\n",
    "- **table_topic** – The logical topic/group the table belongs to.\n",
    "- **table_name_plural** – The Dataverse API plural table name.\n",
    "- **last_modified_count** – Total number of rows at last update.\n",
    "- **last_modified_dt** – Timestamp of the most recent modification."
   ]
  },
  {
   "cell_type": "code",
   "execution_count": 0,
   "metadata": {
    "application/vnd.databricks.v1+cell": {
     "cellMetadata": {
      "byteLimit": 2048000,
      "rowLimit": 10000
     },
     "inputWidgets": {},
     "nuid": "4c24e5db-b7e4-4a15-a66b-544fcda7841c",
     "showTitle": true,
     "tableResultSettingsMap": {},
     "title": "Get Config Table"
    }
   },
   "outputs": [
    {
     "output_type": "display_data",
     "data": {
      "text/html": [
       "<style scoped>\n",
       "  .table-result-container {\n",
       "    max-height: 300px;\n",
       "    overflow: auto;\n",
       "  }\n",
       "  table, th, td {\n",
       "    border: 1px solid black;\n",
       "    border-collapse: collapse;\n",
       "  }\n",
       "  th, td {\n",
       "    padding: 5px;\n",
       "  }\n",
       "  th {\n",
       "    text-align: left;\n",
       "  }\n",
       "</style><div class='table-result-container'><table class='table-result'><thead style='background-color: white'><tr><th>table_topic</th><th>table_name_plural</th><th>last_modified_count</th><th>last_modified_dt</th></tr></thead><tbody><tr><td>spedito</td><td>hkibtmup_spedito_region_bu_local_ds_lookups</td><td>19</td><td>2025-06-16T12:23:46Z</td></tr><tr><td>spedito</td><td>hkibtmup_spedito_region_bu_local_id_lookups</td><td>19</td><td>2025-06-16T12:23:45Z</td></tr><tr><td>procurement</td><td>hki_procurement_suppliers_procurements</td><td>0</td><td>1970-01-01T00:00:01Z</td></tr><tr><td>service_level</td><td>hki_hkiservice_levelservice_levels</td><td>17</td><td>2025-02-19T13:36:35Z</td></tr><tr><td>stac</td><td>hki_mma_classificazione_materiale_famiglias</td><td>601</td><td>2025-01-27T16:10:17Z</td></tr><tr><td>spedito</td><td>hkibtmup_spedito_area_local_idlookups</td><td>12</td><td>2025-06-16T12:23:36Z</td></tr><tr><td>cutoff_dates</td><td>hki_cutoff_year_month_id_lookups</td><td>60</td><td>2025-03-31T16:28:48Z</td></tr><tr><td>service_level</td><td>hki_intervention_reason_ds_lookups</td><td>0</td><td>1970-01-01T00:00:01Z</td></tr><tr><td>spedito</td><td>hkibtmup_spedito_zone_mt_ds_lookups</td><td>28</td><td>2025-06-16T12:23:34Z</td></tr><tr><td>service_level</td><td>hki_intervention_state_ds_lookups</td><td>0</td><td>1970-01-01T00:00:01Z</td></tr><tr><td>service_level</td><td>hki_intervention_state_id_lookups</td><td>0</td><td>1970-01-01T00:00:01Z</td></tr><tr><td>service_level</td><td>hki_intervention_type_id_lookups</td><td>0</td><td>1970-01-01T00:00:01Z</td></tr><tr><td>spedito</td><td>hkibtmup_spedito_plant_ds_lookups</td><td>329</td><td>2025-06-16T12:23:54Z</td></tr><tr><td>perfect_day</td><td>hki_perfect_day_manual_kpises</td><td>0</td><td>1970-01-01T00:00:01Z</td></tr><tr><td>rls</td><td>hkirls_lookup_sales_unit_loc_h_deses</td><td>361</td><td>2025-04-14T15:28:23Z</td></tr><tr><td>cutoff_dates</td><td>hki_cutoff_calendar_lookups</td><td>1826</td><td>2025-03-31T16:29:06Z</td></tr><tr><td>cutoff_dates</td><td>hki_cutoff_channel_lookups</td><td>2</td><td>2025-03-31T09:53:37Z</td></tr><tr><td>rtm</td><td>hki_rtm_dim_target_manual_sellouts</td><td>18</td><td>2024-10-07T16:15:51Z</td></tr><tr><td>spina</td><td>hki_line_ext_part_code_lookups</td><td>89</td><td>2025-03-30T09:22:13Z</td></tr><tr><td>perfect_day</td><td>hki_perfect_day_triggers</td><td>0</td><td>1970-01-01T00:00:01Z</td></tr><tr><td>oos</td><td>hki_oos_combinazioni_triplettes</td><td>55</td><td>2025-05-08T07:52:21Z</td></tr><tr><td>spedito</td><td>hkibtmup_plant_area_appings</td><td>0</td><td>1970-01-01T00:00:01Z</td></tr><tr><td>rtm</td><td>hki_rtm_pdc_cluster_ds_lookups</td><td>4</td><td>2025-04-02T21:35:45Z</td></tr><tr><td>procurement</td><td>hki_procurement_buyers</td><td>0</td><td>1970-01-01T00:00:01Z</td></tr><tr><td>rtm</td><td>hki_rtm_target_horeca_months</td><td>0</td><td>1970-01-01T00:00:01Z</td></tr><tr><td>sales</td><td>hki_sales_fake_customerses</td><td>9</td><td>2024-10-16T12:19:55Z</td></tr><tr><td>spina</td><td>hki_line_ext_stac_code_lookups</td><td>275</td><td>2025-07-14T10:11:19Z</td></tr><tr><td>rls</td><td>hkirls_lookup_customer_dses</td><td>330946</td><td>2025-04-14T16:31:10Z</td></tr><tr><td>sales</td><td>hki_sales_target_plan_bus</td><td>17208</td><td>2024-11-15T09:30:24Z</td></tr><tr><td>sales</td><td>hki_sales_product_customs</td><td>417</td><td>2024-12-10T16:02:14Z</td></tr><tr><td>cutoff_dates</td><td>hki_cutoff_dateses</td><td>4</td><td>2025-01-13T11:50:40Z</td></tr><tr><td>wlygp</td><td>hkiwlygp_category_lookups</td><td>2</td><td>2025-04-10T07:54:35Z</td></tr><tr><td>totrofo</td><td>hkibtmup_hkirf2htot_hos</td><td>0</td><td>1970-01-01T00:00:01Z</td></tr><tr><td>sales</td><td>hki_lookup_packtype_sases</td><td>15</td><td>2025-02-26T06:32:07Z</td></tr><tr><td>rls</td><td>hkirls_lookup_customer_ids</td><td>407061</td><td>2025-04-14T16:04:48Z</td></tr><tr><td>stac</td><td>hki_mma_year_month_id_lookups</td><td>1740</td><td>2025-03-28T05:46:45Z</td></tr><tr><td>spina</td><td>hki_line_ext_sfa_lookups</td><td>20</td><td>2025-03-30T09:22:14Z</td></tr><tr><td>rtm</td><td>hki_rtm_picos_activations</td><td>134</td><td>2025-03-24T04:03:20Z</td></tr><tr><td>spina</td><td>hki_year_month_code_lookups</td><td>60</td><td>2025-07-14T10:11:21Z</td></tr><tr><td>sales</td><td>hki_sales_div_par_clis</td><td>50</td><td>2024-12-12T11:07:50Z</td></tr><tr><td>rls</td><td>hkirls_plant_id_lookups</td><td>362</td><td>2025-04-14T16:31:21Z</td></tr><tr><td>rls</td><td>hkirls_plant_ff_lookups</td><td>1</td><td>2025-03-28T10:01:10Z</td></tr><tr><td>prcttg</td><td>hkiprctg_speditomts</td><td>0</td><td>1970-01-01T00:00:01Z</td></tr><tr><td>rofo2h</td><td>hkirf2h_hkirofomts</td><td>0</td><td>1970-01-01T00:00:01Z</td></tr><tr><td>spina</td><td>hki_line_extensions</td><td>0</td><td>1970-01-01T00:00:01Z</td></tr><tr><td>rtm</td><td>hki_lookup_quarterses</td><td>20</td><td>2025-04-03T12:50:56Z</td></tr><tr><td>ptf</td><td>hkiptfye_estimateses</td><td>0</td><td>1970-01-01T00:00:01Z</td></tr><tr><td>rtm</td><td>hki_lookup_statuses</td><td>5</td><td>2024-10-18T14:29:53Z</td></tr><tr><td>spina</td><td>hki_oc_ds_lookups</td><td>347982</td><td>2025-03-05T11:13:34Z</td></tr><tr><td>rtm</td><td>hki_lookup_monthses</td><td>75</td><td>2025-02-15T04:10:22Z</td></tr><tr><td>spina</td><td>hki_line_ext_lookups</td><td>317</td><td>2025-07-14T10:11:14Z</td></tr><tr><td>wlygp</td><td>hkiwlygp_recaps</td><td>2</td><td>2025-04-11T10:08:38Z</td></tr><tr><td>spina</td><td>hki_oc_code_lookups</td><td>429784</td><td>2025-07-14T10:52:26Z</td></tr><tr><td>rls</td><td>hkirls_rls_customs</td><td>0</td><td>1970-01-01T00:00:01Z</td></tr><tr><td>spina</td><td>hki_deleghes</td><td>1</td><td>2025-07-15T09:07:33Z</td></tr><tr><td>cfin</td><td>hkicfin_accounts_registries</td><td>193</td><td>2024-11-26T15:12:54Z</td></tr><tr><td>forecast</td><td>hkiforec_calendars</td><td>12</td><td>2024-06-21T12:57:46Z</td></tr><tr><td>spedito</td><td>hkibtmup_spedito_top_chain_horecalookups</td><td>2</td><td>2025-06-16T12:23:55Z</td></tr><tr><td>spedito</td><td>hkibtmup_spedito_area_local_ds_lookups</td><td>12</td><td>2025-06-16T12:23:43Z</td></tr><tr><td>sales</td><td>hki_sales_mapping_rv_par_venditore_hkis</td><td>115</td><td>2024-10-17T13:34:52Z</td></tr><tr><td>procurement</td><td>hki_procurement_cmg_procurements</td><td>0</td><td>1970-01-01T00:00:01Z</td></tr><tr><td>service_level</td><td>hki_intervention_reason_id_lookups</td><td>0</td><td>1970-01-01T00:00:01Z</td></tr><tr><td>rls</td><td>hkirls_lookup_sales_area_loc_hier_deses</td><td>27</td><td>2025-04-14T15:28:05Z</td></tr><tr><td>rls</td><td>hkirls_lookup_sales_area_loc_hier_codes</td><td>27</td><td>2025-04-14T15:28:00Z</td></tr><tr><td>rls</td><td>hkirls_lookup_sales_reg_loc_hier_codes</td><td>89</td><td>2025-04-14T15:28:07Z</td></tr><tr><td>rls</td><td>hkirls_lookup_sales_reg_loc_hier_deses</td><td>81</td><td>2025-04-14T15:28:08Z</td></tr><tr><td>service_level</td><td>hki_intervention_type_ds_lookups</td><td>0</td><td>1970-01-01T00:00:01Z</td></tr><tr><td>spedito</td><td>hkibtmup_spedito_plant_id_lookups</td><td>362</td><td>2025-06-16T12:23:51Z</td></tr><tr><td>service_level</td><td>hki_state_end_start_lookups</td><td>2</td><td>2025-02-11T16:18:55Z</td></tr><tr><td>stac</td><td>hki_mma_divisione_coordinatore_cdas</td><td>66</td><td>2025-02-28T11:26:51Z</td></tr><tr><td>rls</td><td>hkirls_lookup_sales_unit_loc_h_codes</td><td>372</td><td>2025-04-14T15:28:20Z</td></tr><tr><td>replenishment</td><td>hki_product_replenishments</td><td>2</td><td>2025-04-07T08:37:25Z</td></tr><tr><td>comex</td><td>hki_comex_variabili_indipendentis</td><td>0</td><td>1970-01-01T00:00:01Z</td></tr><tr><td>rtm</td><td>hki_rtm_d_sf_visit_brand_ds_lookups</td><td>4</td><td>2025-04-02T21:35:38Z</td></tr><tr><td>truckmaxcap</td><td>hkiprctg_capacitymaxtrucks</td><td>1</td><td>2025-06-11T14:21:09Z</td></tr><tr><td>service_level</td><td>hki_service_level_id_lookups</td><td>0</td><td>1970-01-01T00:00:01Z</td></tr><tr><td>service_level</td><td>hki_service_level_ds_lookups</td><td>0</td><td>1970-01-01T00:00:01Z</td></tr><tr><td>comex</td><td>hki_comex_variabili_dipendentis</td><td>18</td><td>2025-06-06T10:17:10Z</td></tr><tr><td>rtm</td><td>hki_contact_strategy_parameterses</td><td>2</td><td>2024-10-07T11:07:26Z</td></tr><tr><td>rls</td><td>hkirls_pnl_main_customer_lookups</td><td>101</td><td>2025-04-15T10:26:02Z</td></tr><tr><td>rtm</td><td>hki_lookup_quadranti_prioritaris</td><td>51</td><td>2024-07-26T15:24:30Z</td></tr><tr><td>service_level</td><td>hki_implant_id_lookups</td><td>13</td><td>2025-02-19T13:29:56Z</td></tr><tr><td>service_level</td><td>hki_implant_ds_lookups</td><td>12</td><td>2025-02-19T13:30:06Z</td></tr><tr><td>replenishment</td><td>hki_d_product_lookups</td><td>77955</td><td>2025-02-07T10:53:29Z</td></tr><tr><td>rtm</td><td>hki_d_sf_picos_picos_ds_lookups</td><td>322</td><td>2025-04-02T21:35:44Z</td></tr><tr><td>rtm</td><td>hki_rtm_target_horeca_quarters</td><td>0</td><td>1970-01-01T00:00:01Z</td></tr><tr><td>rofo2h</td><td>hkirf2h_hkirofo2hhkirofohorecas</td><td>32</td><td>2025-07-02T13:03:06Z</td></tr><tr><td>wlygp</td><td>hkiwlygp_year_month_lookups</td><td>36</td><td>2025-04-04T14:18:13Z</td></tr><tr><td>rtm</td><td>hki_line_extensions_lookups</td><td>4</td><td>2025-03-20T15:03:48Z</td></tr><tr><td>cb_data</td><td>hki_breweries_bufferses</td><td>27</td><td>2025-07-17T08:48:50Z</td></tr><tr><td>sales</td><td>hki_lookup_packform_sases</td><td>39</td><td>2025-02-26T06:32:10Z</td></tr><tr><td>prcttg</td><td>hkiprctg_speditohorecas</td><td>0</td><td>1970-01-01T00:00:01Z</td></tr><tr><td>rtm</td><td>hki_rtm_contact_strategies</td><td>5</td><td>2024-10-03T14:20:29Z</td></tr><tr><td>sales</td><td>hki_sales_target_horecas</td><td>17138</td><td>2024-10-17T14:11:31Z</td></tr><tr><td>spina</td><td>hki_tipo_delega_lookups</td><td>2</td><td>2025-03-18T15:31:03Z</td></tr><tr><td>btmup</td><td>hkibtmup_mt_bottom_ups</td><td>0</td><td>1970-01-01T00:00:01Z</td></tr><tr><td>btmup</td><td>hkibtmup_horeca_bottom_ups</td><td>8</td><td>2025-07-15T09:07:39Z</td></tr><tr><td>stac</td><td>hki_mma_division_id_lookups</td><td>10144</td><td>2025-03-28T05:46:49Z</td></tr><tr><td>rls</td><td>hkirls_plant_ds_lookups</td><td>329</td><td>2025-04-14T16:31:26Z</td></tr><tr><td>sales</td><td>hki_lookup_famiglia_sases</td><td>171</td><td>2025-07-17T19:17:53Z</td></tr><tr><td>hrt</td><td>hki_hrf_months_lookups</td><td>12</td><td>2025-04-02T16:10:11Z</td></tr><tr><td>cutoff_dates</td><td>hki_cutoffs</td><td>3</td><td>2025-04-03T07:44:06Z</td></tr><tr><td>sales</td><td>hki_lookup_brand_sases</td><td>466</td><td>2025-07-17T19:17:57Z</td></tr><tr><td>rtm</td><td>hki_lookup_sellouts</td><td>84</td><td>2025-04-02T21:35:37Z</td></tr><tr><td>hrt</td><td>hki_hrt_selections</td><td>3</td><td>2025-04-02T21:46:36Z</td></tr><tr><td>tpm</td><td>hkitpm_assortments</td><td>20</td><td>2025-04-09T09:54:13Z</td></tr><tr><td>rls</td><td>hkirls_rls_plants</td><td>1</td><td>2025-03-31T07:46:26Z</td></tr><tr><td>oos</td><td>hki_oos_out_of_stocks</td><td>338</td><td>2025-08-04T07:02:36Z</td></tr><tr><td>stac</td><td>hki_lookup_refs</td><td>78793</td><td>2025-02-28T10:54:50Z</td></tr><tr><td>rtm</td><td>hki_lookup_ams</td><td>92</td><td>2024-07-25T08:20:56Z</td></tr><tr><td>managerial</td><td>hki_managerial_cutoff_dateses</td><td>4</td><td>2024-10-03T10:47:08Z</td></tr><tr><td>ftr</td><td>hkiftr_ftr_new_process_stage_ftrs</td><td>542</td><td>2024-09-17T06:32:38Z</td></tr><tr><td>ftr</td><td>hkiftr_lookup_parameter_ids</td><td>376</td><td>2024-09-30T06:32:14Z</td></tr><tr><td>cfin</td><td>hkicfin_manual_loadses</td><td>4</td><td>2024-12-20T13:58:46Z</td></tr></tbody></table></div>"
      ]
     },
     "metadata": {
      "application/vnd.databricks.v1+output": {
       "addedWidgets": {},
       "aggData": [],
       "aggError": "",
       "aggOverflow": false,
       "aggSchema": [],
       "aggSeriesLimitReached": false,
       "aggType": "",
       "arguments": {},
       "columnCustomDisplayInfos": {},
       "data": [
        [
         "spedito",
         "hkibtmup_spedito_region_bu_local_ds_lookups",
         19,
         "2025-06-16T12:23:46Z"
        ],
        [
         "spedito",
         "hkibtmup_spedito_region_bu_local_id_lookups",
         19,
         "2025-06-16T12:23:45Z"
        ],
        [
         "procurement",
         "hki_procurement_suppliers_procurements",
         0,
         "1970-01-01T00:00:01Z"
        ],
        [
         "service_level",
         "hki_hkiservice_levelservice_levels",
         17,
         "2025-02-19T13:36:35Z"
        ],
        [
         "stac",
         "hki_mma_classificazione_materiale_famiglias",
         601,
         "2025-01-27T16:10:17Z"
        ],
        [
         "spedito",
         "hkibtmup_spedito_area_local_idlookups",
         12,
         "2025-06-16T12:23:36Z"
        ],
        [
         "cutoff_dates",
         "hki_cutoff_year_month_id_lookups",
         60,
         "2025-03-31T16:28:48Z"
        ],
        [
         "service_level",
         "hki_intervention_reason_ds_lookups",
         0,
         "1970-01-01T00:00:01Z"
        ],
        [
         "spedito",
         "hkibtmup_spedito_zone_mt_ds_lookups",
         28,
         "2025-06-16T12:23:34Z"
        ],
        [
         "service_level",
         "hki_intervention_state_ds_lookups",
         0,
         "1970-01-01T00:00:01Z"
        ],
        [
         "service_level",
         "hki_intervention_state_id_lookups",
         0,
         "1970-01-01T00:00:01Z"
        ],
        [
         "service_level",
         "hki_intervention_type_id_lookups",
         0,
         "1970-01-01T00:00:01Z"
        ],
        [
         "spedito",
         "hkibtmup_spedito_plant_ds_lookups",
         329,
         "2025-06-16T12:23:54Z"
        ],
        [
         "perfect_day",
         "hki_perfect_day_manual_kpises",
         0,
         "1970-01-01T00:00:01Z"
        ],
        [
         "rls",
         "hkirls_lookup_sales_unit_loc_h_deses",
         361,
         "2025-04-14T15:28:23Z"
        ],
        [
         "cutoff_dates",
         "hki_cutoff_calendar_lookups",
         1826,
         "2025-03-31T16:29:06Z"
        ],
        [
         "cutoff_dates",
         "hki_cutoff_channel_lookups",
         2,
         "2025-03-31T09:53:37Z"
        ],
        [
         "rtm",
         "hki_rtm_dim_target_manual_sellouts",
         18,
         "2024-10-07T16:15:51Z"
        ],
        [
         "spina",
         "hki_line_ext_part_code_lookups",
         89,
         "2025-03-30T09:22:13Z"
        ],
        [
         "perfect_day",
         "hki_perfect_day_triggers",
         0,
         "1970-01-01T00:00:01Z"
        ],
        [
         "oos",
         "hki_oos_combinazioni_triplettes",
         55,
         "2025-05-08T07:52:21Z"
        ],
        [
         "spedito",
         "hkibtmup_plant_area_appings",
         0,
         "1970-01-01T00:00:01Z"
        ],
        [
         "rtm",
         "hki_rtm_pdc_cluster_ds_lookups",
         4,
         "2025-04-02T21:35:45Z"
        ],
        [
         "procurement",
         "hki_procurement_buyers",
         0,
         "1970-01-01T00:00:01Z"
        ],
        [
         "rtm",
         "hki_rtm_target_horeca_months",
         0,
         "1970-01-01T00:00:01Z"
        ],
        [
         "sales",
         "hki_sales_fake_customerses",
         9,
         "2024-10-16T12:19:55Z"
        ],
        [
         "spina",
         "hki_line_ext_stac_code_lookups",
         275,
         "2025-07-14T10:11:19Z"
        ],
        [
         "rls",
         "hkirls_lookup_customer_dses",
         330946,
         "2025-04-14T16:31:10Z"
        ],
        [
         "sales",
         "hki_sales_target_plan_bus",
         17208,
         "2024-11-15T09:30:24Z"
        ],
        [
         "sales",
         "hki_sales_product_customs",
         417,
         "2024-12-10T16:02:14Z"
        ],
        [
         "cutoff_dates",
         "hki_cutoff_dateses",
         4,
         "2025-01-13T11:50:40Z"
        ],
        [
         "wlygp",
         "hkiwlygp_category_lookups",
         2,
         "2025-04-10T07:54:35Z"
        ],
        [
         "totrofo",
         "hkibtmup_hkirf2htot_hos",
         0,
         "1970-01-01T00:00:01Z"
        ],
        [
         "sales",
         "hki_lookup_packtype_sases",
         15,
         "2025-02-26T06:32:07Z"
        ],
        [
         "rls",
         "hkirls_lookup_customer_ids",
         407061,
         "2025-04-14T16:04:48Z"
        ],
        [
         "stac",
         "hki_mma_year_month_id_lookups",
         1740,
         "2025-03-28T05:46:45Z"
        ],
        [
         "spina",
         "hki_line_ext_sfa_lookups",
         20,
         "2025-03-30T09:22:14Z"
        ],
        [
         "rtm",
         "hki_rtm_picos_activations",
         134,
         "2025-03-24T04:03:20Z"
        ],
        [
         "spina",
         "hki_year_month_code_lookups",
         60,
         "2025-07-14T10:11:21Z"
        ],
        [
         "sales",
         "hki_sales_div_par_clis",
         50,
         "2024-12-12T11:07:50Z"
        ],
        [
         "rls",
         "hkirls_plant_id_lookups",
         362,
         "2025-04-14T16:31:21Z"
        ],
        [
         "rls",
         "hkirls_plant_ff_lookups",
         1,
         "2025-03-28T10:01:10Z"
        ],
        [
         "prcttg",
         "hkiprctg_speditomts",
         0,
         "1970-01-01T00:00:01Z"
        ],
        [
         "rofo2h",
         "hkirf2h_hkirofomts",
         0,
         "1970-01-01T00:00:01Z"
        ],
        [
         "spina",
         "hki_line_extensions",
         0,
         "1970-01-01T00:00:01Z"
        ],
        [
         "rtm",
         "hki_lookup_quarterses",
         20,
         "2025-04-03T12:50:56Z"
        ],
        [
         "ptf",
         "hkiptfye_estimateses",
         0,
         "1970-01-01T00:00:01Z"
        ],
        [
         "rtm",
         "hki_lookup_statuses",
         5,
         "2024-10-18T14:29:53Z"
        ],
        [
         "spina",
         "hki_oc_ds_lookups",
         347982,
         "2025-03-05T11:13:34Z"
        ],
        [
         "rtm",
         "hki_lookup_monthses",
         75,
         "2025-02-15T04:10:22Z"
        ],
        [
         "spina",
         "hki_line_ext_lookups",
         317,
         "2025-07-14T10:11:14Z"
        ],
        [
         "wlygp",
         "hkiwlygp_recaps",
         2,
         "2025-04-11T10:08:38Z"
        ],
        [
         "spina",
         "hki_oc_code_lookups",
         429784,
         "2025-07-14T10:52:26Z"
        ],
        [
         "rls",
         "hkirls_rls_customs",
         0,
         "1970-01-01T00:00:01Z"
        ],
        [
         "spina",
         "hki_deleghes",
         1,
         "2025-07-15T09:07:33Z"
        ],
        [
         "cfin",
         "hkicfin_accounts_registries",
         193,
         "2024-11-26T15:12:54Z"
        ],
        [
         "forecast",
         "hkiforec_calendars",
         12,
         "2024-06-21T12:57:46Z"
        ],
        [
         "spedito",
         "hkibtmup_spedito_top_chain_horecalookups",
         2,
         "2025-06-16T12:23:55Z"
        ],
        [
         "spedito",
         "hkibtmup_spedito_area_local_ds_lookups",
         12,
         "2025-06-16T12:23:43Z"
        ],
        [
         "sales",
         "hki_sales_mapping_rv_par_venditore_hkis",
         115,
         "2024-10-17T13:34:52Z"
        ],
        [
         "procurement",
         "hki_procurement_cmg_procurements",
         0,
         "1970-01-01T00:00:01Z"
        ],
        [
         "service_level",
         "hki_intervention_reason_id_lookups",
         0,
         "1970-01-01T00:00:01Z"
        ],
        [
         "rls",
         "hkirls_lookup_sales_area_loc_hier_deses",
         27,
         "2025-04-14T15:28:05Z"
        ],
        [
         "rls",
         "hkirls_lookup_sales_area_loc_hier_codes",
         27,
         "2025-04-14T15:28:00Z"
        ],
        [
         "rls",
         "hkirls_lookup_sales_reg_loc_hier_codes",
         89,
         "2025-04-14T15:28:07Z"
        ],
        [
         "rls",
         "hkirls_lookup_sales_reg_loc_hier_deses",
         81,
         "2025-04-14T15:28:08Z"
        ],
        [
         "service_level",
         "hki_intervention_type_ds_lookups",
         0,
         "1970-01-01T00:00:01Z"
        ],
        [
         "spedito",
         "hkibtmup_spedito_plant_id_lookups",
         362,
         "2025-06-16T12:23:51Z"
        ],
        [
         "service_level",
         "hki_state_end_start_lookups",
         2,
         "2025-02-11T16:18:55Z"
        ],
        [
         "stac",
         "hki_mma_divisione_coordinatore_cdas",
         66,
         "2025-02-28T11:26:51Z"
        ],
        [
         "rls",
         "hkirls_lookup_sales_unit_loc_h_codes",
         372,
         "2025-04-14T15:28:20Z"
        ],
        [
         "replenishment",
         "hki_product_replenishments",
         2,
         "2025-04-07T08:37:25Z"
        ],
        [
         "comex",
         "hki_comex_variabili_indipendentis",
         0,
         "1970-01-01T00:00:01Z"
        ],
        [
         "rtm",
         "hki_rtm_d_sf_visit_brand_ds_lookups",
         4,
         "2025-04-02T21:35:38Z"
        ],
        [
         "truckmaxcap",
         "hkiprctg_capacitymaxtrucks",
         1,
         "2025-06-11T14:21:09Z"
        ],
        [
         "service_level",
         "hki_service_level_id_lookups",
         0,
         "1970-01-01T00:00:01Z"
        ],
        [
         "service_level",
         "hki_service_level_ds_lookups",
         0,
         "1970-01-01T00:00:01Z"
        ],
        [
         "comex",
         "hki_comex_variabili_dipendentis",
         18,
         "2025-06-06T10:17:10Z"
        ],
        [
         "rtm",
         "hki_contact_strategy_parameterses",
         2,
         "2024-10-07T11:07:26Z"
        ],
        [
         "rls",
         "hkirls_pnl_main_customer_lookups",
         101,
         "2025-04-15T10:26:02Z"
        ],
        [
         "rtm",
         "hki_lookup_quadranti_prioritaris",
         51,
         "2024-07-26T15:24:30Z"
        ],
        [
         "service_level",
         "hki_implant_id_lookups",
         13,
         "2025-02-19T13:29:56Z"
        ],
        [
         "service_level",
         "hki_implant_ds_lookups",
         12,
         "2025-02-19T13:30:06Z"
        ],
        [
         "replenishment",
         "hki_d_product_lookups",
         77955,
         "2025-02-07T10:53:29Z"
        ],
        [
         "rtm",
         "hki_d_sf_picos_picos_ds_lookups",
         322,
         "2025-04-02T21:35:44Z"
        ],
        [
         "rtm",
         "hki_rtm_target_horeca_quarters",
         0,
         "1970-01-01T00:00:01Z"
        ],
        [
         "rofo2h",
         "hkirf2h_hkirofo2hhkirofohorecas",
         32,
         "2025-07-02T13:03:06Z"
        ],
        [
         "wlygp",
         "hkiwlygp_year_month_lookups",
         36,
         "2025-04-04T14:18:13Z"
        ],
        [
         "rtm",
         "hki_line_extensions_lookups",
         4,
         "2025-03-20T15:03:48Z"
        ],
        [
         "cb_data",
         "hki_breweries_bufferses",
         27,
         "2025-07-17T08:48:50Z"
        ],
        [
         "sales",
         "hki_lookup_packform_sases",
         39,
         "2025-02-26T06:32:10Z"
        ],
        [
         "prcttg",
         "hkiprctg_speditohorecas",
         0,
         "1970-01-01T00:00:01Z"
        ],
        [
         "rtm",
         "hki_rtm_contact_strategies",
         5,
         "2024-10-03T14:20:29Z"
        ],
        [
         "sales",
         "hki_sales_target_horecas",
         17138,
         "2024-10-17T14:11:31Z"
        ],
        [
         "spina",
         "hki_tipo_delega_lookups",
         2,
         "2025-03-18T15:31:03Z"
        ],
        [
         "btmup",
         "hkibtmup_mt_bottom_ups",
         0,
         "1970-01-01T00:00:01Z"
        ],
        [
         "btmup",
         "hkibtmup_horeca_bottom_ups",
         8,
         "2025-07-15T09:07:39Z"
        ],
        [
         "stac",
         "hki_mma_division_id_lookups",
         10144,
         "2025-03-28T05:46:49Z"
        ],
        [
         "rls",
         "hkirls_plant_ds_lookups",
         329,
         "2025-04-14T16:31:26Z"
        ],
        [
         "sales",
         "hki_lookup_famiglia_sases",
         171,
         "2025-07-17T19:17:53Z"
        ],
        [
         "hrt",
         "hki_hrf_months_lookups",
         12,
         "2025-04-02T16:10:11Z"
        ],
        [
         "cutoff_dates",
         "hki_cutoffs",
         3,
         "2025-04-03T07:44:06Z"
        ],
        [
         "sales",
         "hki_lookup_brand_sases",
         466,
         "2025-07-17T19:17:57Z"
        ],
        [
         "rtm",
         "hki_lookup_sellouts",
         84,
         "2025-04-02T21:35:37Z"
        ],
        [
         "hrt",
         "hki_hrt_selections",
         3,
         "2025-04-02T21:46:36Z"
        ],
        [
         "tpm",
         "hkitpm_assortments",
         20,
         "2025-04-09T09:54:13Z"
        ],
        [
         "rls",
         "hkirls_rls_plants",
         1,
         "2025-03-31T07:46:26Z"
        ],
        [
         "oos",
         "hki_oos_out_of_stocks",
         338,
         "2025-08-04T07:02:36Z"
        ],
        [
         "stac",
         "hki_lookup_refs",
         78793,
         "2025-02-28T10:54:50Z"
        ],
        [
         "rtm",
         "hki_lookup_ams",
         92,
         "2024-07-25T08:20:56Z"
        ],
        [
         "managerial",
         "hki_managerial_cutoff_dateses",
         4,
         "2024-10-03T10:47:08Z"
        ],
        [
         "ftr",
         "hkiftr_ftr_new_process_stage_ftrs",
         542,
         "2024-09-17T06:32:38Z"
        ],
        [
         "ftr",
         "hkiftr_lookup_parameter_ids",
         376,
         "2024-09-30T06:32:14Z"
        ],
        [
         "cfin",
         "hkicfin_manual_loadses",
         4,
         "2024-12-20T13:58:46Z"
        ]
       ],
       "datasetInfos": [],
       "dbfsResultPath": null,
       "isJsonSchema": true,
       "metadata": {},
       "overflow": false,
       "plotOptions": {
        "customPlotOptions": {},
        "displayType": "table",
        "pivotAggregation": null,
        "pivotColumns": null,
        "xColumns": null,
        "yColumns": null
       },
       "removedWidgets": [],
       "schema": [
        {
         "metadata": "{}",
         "name": "table_topic",
         "type": "\"string\""
        },
        {
         "metadata": "{}",
         "name": "table_name_plural",
         "type": "\"string\""
        },
        {
         "metadata": "{}",
         "name": "last_modified_count",
         "type": "\"integer\""
        },
        {
         "metadata": "{}",
         "name": "last_modified_dt",
         "type": "\"timestamp\""
        }
       ],
       "type": "table"
      }
     },
     "output_type": "display_data"
    }
   ],
   "source": [
    "_ = spark.sql(f\"CREATE SCHEMA IF NOT EXISTS sch_statistics;\")\n",
    "\n",
    "_ = spark.sql(\"\"\"\n",
    "CREATE TABLE IF NOT EXISTS sch_statistics.dataverse_update_lookup\n",
    "(\n",
    "  table_topic STRING,\n",
    "  table_name_plural STRING, \n",
    "  last_modified_count INT,\n",
    "  last_modified_dt TIMESTAMP\n",
    ")\n",
    "USING DELTA LOCATION 'dbfs:/mnt/dls/statistics/dataverse_update_lookup';\n",
    "\"\"\")\n",
    "df_stats = spark.sql(f\"SELECT * FROM sch_statistics.dataverse_update_lookup\")\n",
    "stats_tab_schema = StructType([\n",
    "  StructField(\"table_topic\", StringType(), True),\n",
    "  StructField(\"table_name_plural\", StringType(), True),\n",
    "  StructField(\"last_modified_count\", IntegerType(), True),\n",
    "  StructField(\"last_modified_dt\", TimestampType(), True),\n",
    "])\n",
    "\n",
    "display(df_stats)"
   ]
  },
  {
   "cell_type": "code",
   "execution_count": 0,
   "metadata": {
    "application/vnd.databricks.v1+cell": {
     "cellMetadata": {
      "byteLimit": 2048000,
      "rowLimit": 10000
     },
     "inputWidgets": {},
     "nuid": "2e9d5deb-1113-4a17-a593-0510b9ce265a",
     "showTitle": true,
     "tableResultSettingsMap": {},
     "title": "Get Dataverse Access Token"
    }
   },
   "outputs": [
    {
     "output_type": "stream",
     "name": "stdout",
     "output_type": "stream",
     "text": [
      "OK\n"
     ]
    }
   ],
   "source": [
    "dataprocessing_tenant_id = dbutils.secrets.get(scope=\"kv-solution-01\",key=\"dataprocessing-tenant-id\")\n",
    "dataprocessing_client_id = dbutils.secrets.get(scope=\"kv-solution-01\",key=\"dataprocessing-app-id\")\n",
    "dataprocessing_client_secret = dbutils.secrets.get(scope=\"kv-solution-01\",key=\"dataprocessing-app-secret\")\n",
    "dataverse_uri = dbutils.secrets.get(scope=\"kv-solution-01\",key=\"dataverse-uri\").replace('api/data/v9.2/', '')\n",
    "# dataverse_uri = 'https://hei-gis-itdatapr-d-eu-1.api.crm4.dynamics.com'\n",
    "\n",
    "access_token = get_access_token(\n",
    "    dataprocessing_tenant_id, \n",
    "    dataprocessing_client_id, \n",
    "    dataprocessing_client_secret, \n",
    "    dataverse_uri\n",
    ")\n",
    "\n",
    "endpoint = f\"{dataverse_uri}/api/data/v9.2\"\n",
    "print(\"OK\")"
   ]
  },
  {
   "cell_type": "markdown",
   "metadata": {
    "application/vnd.databricks.v1+cell": {
     "cellMetadata": {},
     "inputWidgets": {},
     "nuid": "ce8a1489-d1be-4356-863e-1a54ee035647",
     "showTitle": false,
     "tableResultSettingsMap": {},
     "title": ""
    }
   },
   "source": [
    "## \uD83D\uDE80 Execution Logic – Selecting Tables to Refresh\n",
    "\n",
    "This script is the **execution entry point** that:\n",
    "1. Iterates over the list of Dataverse tables (`df`).\n",
    "2. Checks their **last modified date** and **row count** against stored metadata.\n",
    "3. Decides whether each table should be refreshed.\n",
    "4. Produces:\n",
    "   - `tables_to_refresh_list` – Python list with refresh metadata.\n",
    "   - `table_info_output_csv` – CSV configuration for downstream processing."
   ]
  },
  {
   "cell_type": "code",
   "execution_count": 0,
   "metadata": {
    "application/vnd.databricks.v1+cell": {
     "cellMetadata": {
      "byteLimit": 2048000,
      "rowLimit": 10000
     },
     "inputWidgets": {},
     "nuid": "ede9037d-5014-4d7f-b5aa-dbcd9c635cd2",
     "showTitle": true,
     "tableResultSettingsMap": {},
     "title": "Lookup Dataverse"
    }
   },
   "outputs": [
    {
     "output_type": "stream",
     "name": "stdout",
     "output_type": "stream",
     "text": [
      "FORCE REFRESH table 'hki_product_replenishment' to list of tables to refresh with last update: 2025-04-07 08:37:25 (126 days, 5:11:59.418564)\nFORCE REFRESH table 'hki_d_product_lookup' to list of tables to refresh with last update: 2025-02-07 10:53:29 (185 days, 2:55:55.418564)\n"
     ]
    }
   ],
   "source": [
    "now = datetime.now()\n",
    "tables_to_refresh_list = list()\n",
    "table_info_output_csv = \"schema_name,topic,table_name,table_name_plural,key,refresh_mode,columns,current_date,last_modified_date,age\\n\"\n",
    "for item in df.collect():\n",
    "    if select_topics is not None and item['topic'] not in select_topics:\n",
    "        print(f\"Skipping table '{item['table_name']}' (not in topics list)\")\n",
    "        continue\n",
    "    \n",
    "    last_modified_date, last_modified_count, res = get_status_of_dataverse_table(item['table_name_plural'], endpoint, access_token)\n",
    "    ds_found, ds_count, ds_last_dt = get_table_stats(item['table_name_plural'])\n",
    "\n",
    "    if last_modified_date is None:\n",
    "        msg = f\"ERROR while checking last update for table '{item['table_name']}'\"\n",
    "        if force_fail:\n",
    "            raise Exception(msg)\n",
    "        else:\n",
    "            print(msg)\n",
    "            continue\n",
    "\n",
    "    # CHECK 1: rows number\n",
    "    check_rows = (not ds_found) or (ds_found and (last_modified_count != ds_count))\n",
    "\n",
    "    # CHECK 2 last modified \n",
    "    age = now - last_modified_date\n",
    "    check_last_modified_dt = age.total_seconds() <= max_age\n",
    "\n",
    "    if check_rows or check_last_modified_dt or force_refresh_all:\n",
    "        if force_refresh_all:\n",
    "            print(f\"FORCE REFRESH table '{item['table_name']}' to list of tables to refresh with last update: {last_modified_date} ({age})\")\n",
    "        else:\n",
    "            print(f\"Adding table '{item['table_name']}' to list of tables to refresh with last update: {last_modified_date} ({age})\")\n",
    "        \n",
    "        tables_to_refresh_list.append({\n",
    "            'schema_name' : item['schema_name'],\n",
    "            'topic' : item['topic'],\n",
    "            'table_name' : item['table_name'],\n",
    "            'table_name_plural' : item['table_name_plural'],\n",
    "            'key': item['key'],\n",
    "            'refresh_mode' : item['refresh_mode'],\n",
    "            'columns' : item['columns'],\n",
    "            'current_date' : str(now),\n",
    "            'last_modified_date' : str(last_modified_date),\n",
    "            'age' : age.total_seconds()\n",
    "        })\n",
    "\n",
    "        table_info_output_csv += f\"{item['schema_name']},{item['topic']},{item['table_name']},{item['table_name_plural']},{item['key']},{item['refresh_mode']},{item['columns']},{str(now)},{str(last_modified_date)},{age.total_seconds()}\\n\"\n",
    "\n",
    "        update_table_stats(item['topic'], item['table_name_plural'], last_modified_date, last_modified_count)\n",
    "    \n",
    "    else:\n",
    "        print(f\"Skipping table '{item['table_name']}' with last update: {last_modified_date} ({age})\")"
   ]
  },
  {
   "cell_type": "code",
   "execution_count": 0,
   "metadata": {
    "application/vnd.databricks.v1+cell": {
     "cellMetadata": {
      "byteLimit": 2048000,
      "rowLimit": 10000
     },
     "inputWidgets": {},
     "nuid": "5c4e381a-b9f5-462a-8628-0e66c5d5f35a",
     "showTitle": true,
     "tableResultSettingsMap": {},
     "title": "Write table info for landing if required"
    }
   },
   "outputs": [
    {
     "output_type": "stream",
     "name": "stdout",
     "output_type": "stream",
     "text": [
      "dbfs:/mnt/landing/it/dataverse/table_info_dataverse.csv\ndbfs:/mnt/landing/it/dataverse\nWrote 240 bytes.\n"
     ]
    },
    {
     "output_type": "execute_result",
     "data": {
      "text/plain": [
       "True"
      ]
     },
     "execution_count": 29,
     "metadata": {},
     "output_type": "execute_result"
    }
   ],
   "source": [
    "table_info_path = f\"dbfs:/mnt/landing/{topic}\"\n",
    "table_info_file_path = f\"dbfs:/mnt/landing/{topic}/{target_table_info_name}\"\n",
    "print(table_info_file_path)\n",
    "print(table_info_path)\n",
    "dbutils.fs.mkdirs(table_info_path)\n",
    "dbutils.fs.rm(table_info_file_path)\n",
    "dbutils.fs.put(table_info_file_path, contents=table_info_output_csv)"
   ]
  },
  {
   "cell_type": "code",
   "execution_count": 0,
   "metadata": {
    "application/vnd.databricks.v1+cell": {
     "cellMetadata": {
      "byteLimit": 2048000,
      "rowLimit": 10000
     },
     "inputWidgets": {},
     "nuid": "b8f19877-e5ad-4bec-a8ea-b8871fa93781",
     "showTitle": true,
     "tableResultSettingsMap": {},
     "title": "Output to DataFactory"
    }
   },
   "outputs": [],
   "source": [
    "output_dict = {\n",
    "    \"tables\" : tables_to_refresh_list,\n",
    "    \"table_info_name\" : target_table_info_name\n",
    "}\n",
    "\n",
    "json_output = json.dumps(output_dict)\n",
    "\n",
    "dbutils.notebook.exit(json_output)"
   ]
  }
 ],
 "metadata": {
  "application/vnd.databricks.v1+notebook": {
   "computePreferences": null,
   "dashboards": [],
   "environmentMetadata": null,
   "inputWidgetPreferences": null,
   "language": "python",
   "notebookMetadata": {
    "pythonIndentUnit": 4
   },
   "notebookName": "dataverse_lookup_beaver_generic",
   "widgets": {
    "country": {
     "currentValue": "",
     "nuid": "a16f77b9-e533-4dbd-94f5-6a65d6ae1e17",
     "typedWidgetInfo": {
      "autoCreated": false,
      "defaultValue": "",
      "label": "",
      "name": "country",
      "options": {
       "widgetDisplayType": "Text",
       "validationRegex": null
      },
      "parameterDataType": "String"
     },
     "widgetInfo": {
      "widgetType": "text",
      "defaultValue": "",
      "label": "",
      "name": "country",
      "options": {
       "widgetType": "text",
       "autoCreated": null,
       "validationRegex": null
      }
     }
    },
    "force_fail": {
     "currentValue": "false",
     "nuid": "ac9d713a-d693-4dcc-881e-7785ff0b06e8",
     "typedWidgetInfo": {
      "autoCreated": false,
      "defaultValue": "false",
      "label": null,
      "name": "force_fail",
      "options": {
       "widgetDisplayType": "Dropdown",
       "choices": [
        "true",
        "false"
       ],
       "fixedDomain": true,
       "multiselect": false
      },
      "parameterDataType": "String"
     },
     "widgetInfo": {
      "widgetType": "dropdown",
      "defaultValue": "false",
      "label": null,
      "name": "force_fail",
      "options": {
       "widgetType": "dropdown",
       "autoCreated": null,
       "choices": [
        "true",
        "false"
       ]
      }
     }
    },
    "force_refresh_all": {
     "currentValue": "true",
     "nuid": "5417e140-22ec-4110-8e3f-97b9ea39afae",
     "typedWidgetInfo": {
      "autoCreated": false,
      "defaultValue": "false",
      "label": null,
      "name": "force_refresh_all",
      "options": {
       "widgetDisplayType": "Dropdown",
       "choices": [
        "true",
        "false"
       ],
       "fixedDomain": true,
       "multiselect": false
      },
      "parameterDataType": "String"
     },
     "widgetInfo": {
      "widgetType": "dropdown",
      "defaultValue": "false",
      "label": null,
      "name": "force_refresh_all",
      "options": {
       "widgetType": "dropdown",
       "autoCreated": null,
       "choices": [
        "true",
        "false"
       ]
      }
     }
    },
    "git_branch": {
     "currentValue": "",
     "nuid": "fddcdbac-7ac2-43ea-8b66-2bdbc77f794d",
     "typedWidgetInfo": {
      "autoCreated": false,
      "defaultValue": "",
      "label": "",
      "name": "git_branch",
      "options": {
       "widgetDisplayType": "Text",
       "validationRegex": null
      },
      "parameterDataType": "String"
     },
     "widgetInfo": {
      "widgetType": "text",
      "defaultValue": "",
      "label": "",
      "name": "git_branch",
      "options": {
       "widgetType": "text",
       "autoCreated": false,
       "validationRegex": null
      }
     }
    },
    "max_age": {
     "currentValue": "",
     "nuid": "298140dd-3b93-47b6-95b7-027a627acb5c",
     "typedWidgetInfo": {
      "autoCreated": false,
      "defaultValue": "",
      "label": "",
      "name": "max_age",
      "options": {
       "widgetDisplayType": "Text",
       "validationRegex": null
      },
      "parameterDataType": "String"
     },
     "widgetInfo": {
      "widgetType": "text",
      "defaultValue": "",
      "label": "",
      "name": "max_age",
      "options": {
       "widgetType": "text",
       "autoCreated": null,
       "validationRegex": null
      }
     }
    },
    "select_topics": {
     "currentValue": "",
     "nuid": "03a1ddb8-9fbc-4326-ae03-3aa7d193b338",
     "typedWidgetInfo": {
      "autoCreated": false,
      "defaultValue": "",
      "label": "",
      "name": "select_topics",
      "options": {
       "widgetDisplayType": "Text",
       "validationRegex": null
      },
      "parameterDataType": "String"
     },
     "widgetInfo": {
      "widgetType": "text",
      "defaultValue": "",
      "label": "",
      "name": "select_topics",
      "options": {
       "widgetType": "text",
       "autoCreated": null,
       "validationRegex": null
      }
     }
    },
    "target_table_info_name": {
     "currentValue": "",
     "nuid": "778d7bf6-6a61-410c-a2c7-d28898fc89fb",
     "typedWidgetInfo": {
      "autoCreated": false,
      "defaultValue": "",
      "label": "",
      "name": "target_table_info_name",
      "options": {
       "widgetDisplayType": "Text",
       "validationRegex": null
      },
      "parameterDataType": "String"
     },
     "widgetInfo": {
      "widgetType": "text",
      "defaultValue": "",
      "label": "",
      "name": "target_table_info_name",
      "options": {
       "widgetType": "text",
       "autoCreated": null,
       "validationRegex": null
      }
     }
    },
    "topic": {
     "currentValue": "",
     "nuid": "ab0ed1d7-b959-4203-a96e-a22b8c925f9f",
     "typedWidgetInfo": {
      "autoCreated": false,
      "defaultValue": "",
      "label": "",
      "name": "topic",
      "options": {
       "widgetDisplayType": "Text",
       "validationRegex": null
      },
      "parameterDataType": "String"
     },
     "widgetInfo": {
      "widgetType": "text",
      "defaultValue": "",
      "label": "",
      "name": "topic",
      "options": {
       "widgetType": "text",
       "autoCreated": null,
       "validationRegex": null
      }
     }
    }
   }
  },
  "language_info": {
   "name": "python"
  }
 },
 "nbformat": 4,
 "nbformat_minor": 0
}
